{
 "cells": [
  {
   "cell_type": "code",
   "execution_count": 138,
   "id": "11e2644b",
   "metadata": {},
   "outputs": [
    {
     "name": "stdout",
     "output_type": "stream",
     "text": [
      "CG-nm5ynnbGBWTugQhVY2vNMWbP\n"
     ]
    }
   ],
   "source": [
    "import requests\n",
    "import json\n",
    "import pandas as pd\n",
    "import numpy as np\n",
    "import os\n",
    "import dotenv as load_dotenv\n",
    "import time \n",
    "import pycoingecko\n",
    "\n",
    "\n",
    "load_dotenv.load_dotenv()\n",
    "\n",
    "api_key = os.getenv(\"COINGECKO_API\")\n",
    "\n",
    "print(api_key)"
   ]
  },
  {
   "cell_type": "code",
   "execution_count": 139,
   "id": "94616858",
   "metadata": {},
   "outputs": [],
   "source": [
    "pd.set_option('display.max_colwidth', None)  \n",
    "pd.set_option('display.max_columns', None)   \n",
    "pd.set_option('display.width', 200)    \n",
    "pd.set_option('display.float_format', '{:.8f}'.format)"
   ]
  },
  {
   "cell_type": "markdown",
   "id": "4bbf43be",
   "metadata": {},
   "source": [
    "# On-Chain DEX Endpoints (Coingecko)"
   ]
  },
  {
   "cell_type": "code",
   "execution_count": 140,
   "id": "83a4fea9",
   "metadata": {},
   "outputs": [
    {
     "name": "stdout",
     "output_type": "stream",
     "text": [
      "               id           name    asset_platform_id\n",
      "0             eth       Ethereum             ethereum\n",
      "1             bsc      BNB Chain  binance-smart-chain\n",
      "2     polygon_pos    Polygon POS          polygon-pos\n",
      "3            avax      Avalanche            avalanche\n",
      "4            movr      Moonriver            moonriver\n",
      "..            ...            ...                  ...\n",
      "95       humanode       Humanode             humanode\n",
      "96      mxc-zkevm      MXC zkEVM            moonchain\n",
      "97         zkfair         ZKFair               zkfair\n",
      "98     alveychain     AlveyChain           alveychain\n",
      "99  hypra-network  Hypra Network        hypra-network\n",
      "\n",
      "[100 rows x 3 columns]\n"
     ]
    }
   ],
   "source": [
    "\n",
    "# url = \"https://pro-api.coingecko.com/api/v3/onchain/networks/arbitrum-one/pools\"\n",
    "\n",
    "url = \"https://pro-api.coingecko.com/api/v3/onchain/networks\"\n",
    "\n",
    "headers = {\n",
    "           \"accept\": \"application/json\",\n",
    "           \"x-cg-pro-api-key\": api_key\n",
    "           }\n",
    "\n",
    "response = requests.get(url, headers=headers)\n",
    "\n",
    "data = response.json()\n",
    "\n",
    "networks = [\n",
    "    {\n",
    "        \"id\": item[\"id\"],\n",
    "        \"name\": item[\"attributes\"][\"name\"],\n",
    "        \"asset_platform_id\": item[\"attributes\"][\"coingecko_asset_platform_id\"]\n",
    "    }\n",
    "    for item in data[\"data\"]\n",
    "]\n",
    "\n",
    "df = pd.DataFrame(networks)\n",
    "print(df)\n",
    "\n",
    "# print(response.status_code)\n",
    "# print(response.text)"
   ]
  },
  {
   "cell_type": "code",
   "execution_count": 141,
   "id": "382bba4b",
   "metadata": {},
   "outputs": [
    {
     "name": "stdout",
     "output_type": "stream",
     "text": [
      "200\n",
      "{\"data\":[{\"id\":\"arbitrum_0x6f38e884725a116c9c7fbf208e79fe8828a2595f\",\"type\":\"pool\",\"attributes\":{\"base_token_price_usd\":\"1.0017057214403\",\"base_token_price_native_currency\":\"0.00040172041754003\",\"quote_token_price_usd\":\"2493.88\",\"quote_token_price_native_currency\":\"1.0\",\"base_token_price_quote_token\":\"0.0004017204175\",\"quote_token_price_base_token\":\"2489.29343976\",\"address\":\"0x6f38e884725a116c9c7fbf208e79fe8828a2595f\",\"name\":\"USDC / WETH 0.01%\",\"pool_created_at\":\"2023-06-10T16:44:01Z\",\"fdv_usd\":\"4348792659.75579\",\"market_cap_usd\":\"60637468660.8295\",\"price_change_percentage\":{\"m5\":\"0.26\",\"m15\":\"0.26\",\"m30\":\"0.43\",\"h1\":\"0.21\",\"h6\":\"0.39\",\"h24\":\"0.18\"},\"transactions\":{\"m5\":{\"buys\":169,\"sells\":142,\"buyers\":53,\"sellers\":39},\"m15\":{\"buys\":530,\"sells\":443,\"buyers\":103,\"sellers\":79},\"m30\":{\"buys\":1346,\"sells\":1026,\"buyers\":174,\"sellers\":122},\"h1\":{\"buys\":2105,\"sells\":1668,\"buyers\":225,\"sellers\":186},\"h6\":{\"buys\":12166,\"sells\":10407,\"buyers\":659,\"sellers\":647},\"h24\":{\"buys\":43698,\"sells\":37610,\"buyers\":1767,\"sellers\":1572}},\"volume_usd\":{\"m5\":\"177321.244970361\",\"m15\":\"576213.932593956\",\"m30\":\"1596773.50073634\",\"h1\":\"2364979.21212265\",\"h6\":\"11932608.132924\",\"h24\":\"42827584.819629\"},\"reserve_in_usd\":\"1957488.808\"},\"relationships\":{\"base_token\":{\"data\":{\"id\":\"arbitrum_0xaf88d065e77c8cc2239327c5edb3a432268e5831\",\"type\":\"token\"}},\"quote_token\":{\"data\":{\"id\":\"arbitrum_0x82af49447d8a07e3bd95bd0d56f35241523fbab1\",\"type\":\"token\"}},\"dex\":{\"data\":{\"id\":\"uniswap_v3_arbitrum\",\"type\":\"dex\"}}}},{\"id\":\"arbitrum_0x7fcdc35463e3770c2fb992716cd070b63540b947\",\"type\":\"pool\",\"attributes\":{\"base_token_price_usd\":\"1.00151473205561\",\"base_token_price_native_currency\":\"0.00040172041754003\",\"quote_token_price_usd\":\"2493.88\",\"quote_token_price_native_currency\":\"1.0\",\"base_token_price_quote_token\":\"0.0004017204175\",\"quote_token_price_base_token\":\"2489.29343976\",\"address\":\"0x7fcdc35463e3770c2fb992716cd070b63540b947\",\"name\":\"USDC / WETH 0.01%\",\"pool_created_at\":\"2023-08-11T20:55:44Z\",\"fdv_usd\":\"4347963500.8357\",\"market_cap_usd\":\"60637468660.8295\",\"price_change_percentage\":{\"m5\":\"0.27\",\"m15\":\"0.27\",\"m30\":\"0.45\",\"h1\":\"0.22\",\"h6\":\"0.39\",\"h24\":\"0.2\"},\"transactions\":{\"m5\":{\"buys\":128,\"sells\":74,\"buyers\":28,\"sellers\":22},\"m15\":{\"buys\":380,\"sells\":272,\"buyers\":53,\"sellers\":42},\"m30\":{\"buys\":923,\"sells\":702,\"buyers\":87,\"sellers\":69},\"h1\":{\"buys\":1404,\"sells\":1145,\"buyers\":116,\"sellers\":113},\"h6\":{\"buys\":9039,\"sells\":7930,\"buyers\":411,\"sellers\":440},\"h24\":{\"buys\":33166,\"sells\":29324,\"buyers\":1184,\"sellers\":1003}},\"volume_usd\":{\"m5\":\"100352.460462038\",\"m15\":\"313646.983789882\",\"m30\":\"866339.514314589\",\"h1\":\"1346632.49277062\",\"h6\":\"8308902.76103169\",\"h24\":\"31384905.7282423\"},\"reserve_in_usd\":\"1695578.2883\"},\"relationships\":{\"base_token\":{\"data\":{\"id\":\"arbitrum_0xaf88d065e77c8cc2239327c5edb3a432268e5831\",\"type\":\"token\"}},\"quote_token\":{\"data\":{\"id\":\"arbitrum_0x82af49447d8a07e3bd95bd0d56f35241523fbab1\",\"type\":\"token\"}},\"dex\":{\"data\":{\"id\":\"pancakeswap-v3-arbitrum\",\"type\":\"dex\"}}}},{\"id\":\"arbitrum_0xb1026b8e7276e7ac75410f1fcbbe21796e8f7526\",\"type\":\"pool\",\"attributes\":{\"base_token_price_usd\":\"1.0017428747737\",\"base_token_price_native_currency\":\"0.00040172041754003\",\"quote_token_price_usd\":\"2493.88\",\"quote_token_price_native_currency\":\"1.0\",\"base_token_price_quote_token\":\"0.0004017204175\",\"quote_token_price_base_token\":\"2489.29343976\",\"address\":\"0xb1026b8e7276e7ac75410f1fcbbe21796e8f7526\",\"name\":\"USDC / WETH 0.01%\",\"pool_created_at\":\"2023-06-23T02:23:53Z\",\"fdv_usd\":\"4348953956.77158\",\"market_cap_usd\":\"60637468660.8295\",\"price_change_percentage\":{\"m5\":\"0.3\",\"m15\":\"0.3\",\"m30\":\"0.47\",\"h1\":\"0.26\",\"h6\":\"0.43\",\"h24\":\"0.25\"},\"transactions\":{\"m5\":{\"buys\":132,\"sells\":99,\"buyers\":32,\"sellers\":30},\"m15\":{\"buys\":354,\"sells\":329,\"buyers\":53,\"sellers\":56},\"m30\":{\"buys\":850,\"sells\":784,\"buyers\":84,\"sellers\":98},\"h1\":{\"buys\":1392,\"sells\":1315,\"buyers\":125,\"sellers\":163},\"h6\":{\"buys\":8527,\"sells\":8285,\"buyers\":389,\"sellers\":430},\"h24\":{\"buys\":30129,\"sells\":29016,\"buyers\":1024,\"sellers\":978}},\"volume_usd\":{\"m5\":\"110466.522069082\",\"m15\":\"321378.364463521\",\"m30\":\"848327.82566854\",\"h1\":\"1616810.23142623\",\"h6\":\"9307871.14251873\",\"h24\":\"30937660.6149027\"},\"reserve_in_usd\":\"1953373.4072\"},\"relationships\":{\"base_token\":{\"data\":{\"id\":\"arbitrum_0xaf88d065e77c8cc2239327c5edb3a432268e5831\",\"type\":\"token\"}},\"quote_token\":{\"data\":{\"id\":\"arbitrum_0x82af49447d8a07e3bd95bd0d56f35241523fbab1\",\"type\":\"token\"}},\"dex\":{\"data\":{\"id\":\"camelot-v3\",\"type\":\"dex\"}}}},{\"id\":\"arbitrum_0xc6962004f452be9203591991d15f6b388e09e8d0\",\"type\":\"pool\",\"attributes\":{\"base_token_price_usd\":\"1.00195097940747\",\"base_token_price_native_currency\":\"0.00040168195327911\",\"quote_token_price_usd\":\"2494.15\",\"quote_token_price_native_currency\":\"1.0\",\"base_token_price_quote_token\":\"0.0004016819533\",\"quote_token_price_base_token\":\"2489.531809524\",\"address\":\"0xc6962004f452be9203591991d15f6b388e09e8d0\",\"name\":\"USDC / WETH 0.05%\",\"pool_created_at\":\"2023-06-08T21:28:24Z\",\"fdv_usd\":\"4349857419.61943\",\"market_cap_usd\":\"60637468660.8295\",\"price_change_percentage\":{\"m5\":\"0.34\",\"m15\":\"0.25\",\"m30\":\"0.49\",\"h1\":\"0.35\",\"h6\":\"0.39\",\"h24\":\"0.28\"},\"transactions\":{\"m5\":{\"buys\":94,\"sells\":22,\"buyers\":41,\"sellers\":11},\"m15\":{\"buys\":201,\"sells\":191,\"buyers\":60,\"sellers\":49},\"m30\":{\"buys\":500,\"sells\":502,\"buyers\":101,\"sellers\":94},\"h1\":{\"buys\":786,\"sells\":847,\"buyers\":134,\"sellers\":150},\"h6\":{\"buys\":5526,\"sells\":5365,\"buyers\":358,\"sellers\":402},\"h24\":{\"buys\":20564,\"sells\":20283,\"buyers\":884,\"sellers\":885}},\"volume_usd\":{\"m5\":\"578518.729583967\",\"m15\":\"1850873.52526616\",\"m30\":\"4871330.30134015\",\"h1\":\"7837761.02464825\",\"h6\":\"50044623.5041001\",\"h24\":\"190544990.225699\"},\"reserve_in_usd\":\"49600241.9557\"},\"relationships\":{\"base_token\":{\"data\":{\"id\":\"arbitrum_0xaf88d065e77c8cc2239327c5edb3a432268e5831\",\"type\":\"token\"}},\"quote_token\":{\"data\":{\"id\":\"arbitrum_0x82af49447d8a07e3bd95bd0d56f35241523fbab1\",\"type\":\"token\"}},\"dex\":{\"data\":{\"id\":\"uniswap_v3_arbitrum\",\"type\":\"dex\"}}}},{\"id\":\"arbitrum_0x389938cf14be379217570d8e4619e51fbdafaa21\",\"type\":\"pool\",\"attributes\":{\"base_token_price_usd\":\"2493.88\",\"base_token_price_native_currency\":\"1.0\",\"quote_token_price_usd\":\"1.00210627738907\",\"quote_token_price_native_currency\":\"0.000401878994743886\",\"base_token_price_quote_token\":\"2488.311190878\",\"quote_token_price_base_token\":\"0.0004018789947\",\"address\":\"0x389938cf14be379217570d8e4619e51fbdafaa21\",\"name\":\"WETH / USDT 0.01%\",\"pool_created_at\":\"2023-08-13T11:14:42Z\",\"fdv_usd\":\"485904267.351916\",\"market_cap_usd\":\"483928653.530516\",\"price_change_percentage\":{\"m5\":\"0.05\",\"m15\":\"0.25\",\"m30\":\"0.58\",\"h1\":\"0.74\",\"h6\":\"-0.62\",\"h24\":\"-1.2\"},\"transactions\":{\"m5\":{\"buys\":59,\"sells\":85,\"buyers\":18,\"sellers\":19},\"m15\":{\"buys\":202,\"sells\":212,\"buyers\":38,\"sellers\":35},\"m30\":{\"buys\":444,\"sells\":548,\"buyers\":56,\"sellers\":77},\"h1\":{\"buys\":784,\"sells\":848,\"buyers\":87,\"sellers\":119},\"h6\":{\"buys\":5346,\"sells\":5423,\"buyers\":424,\"sellers\":418},\"h24\":{\"buys\":19266,\"sells\":20673,\"buyers\":1028,\"sellers\":1074}},\"volume_usd\":{\"m5\":\"31296.214408358\",\"m15\":\"85432.7499405387\",\"m30\":\"218638.20530231\",\"h1\":\"371344.569927469\",\"h6\":\"2338711.56758103\",\"h24\":\"9387496.39361602\"},\"reserve_in_usd\":\"985761.9068\"},\"relationships\":{\"base_token\":{\"data\":{\"id\":\"arbitrum_0x82af49447d8a07e3bd95bd0d56f35241523fbab1\",\"type\":\"token\"}},\"quote_token\":{\"data\":{\"id\":\"arbitrum_0xfd086bc7cd5c481dcc9c85ebe478a1c0b69fcbb9\",\"type\":\"token\"}},\"dex\":{\"data\":{\"id\":\"pancakeswap-v3-arbitrum\",\"type\":\"dex\"}}}},{\"id\":\"arbitrum_0x641c00a822e8b671738d32a431a4fb6074e5c79d\",\"type\":\"pool\",\"attributes\":{\"base_token_price_usd\":\"2493.88\",\"base_token_price_native_currency\":\"1.0\",\"quote_token_price_usd\":\"1.00126713397985\",\"quote_token_price_native_currency\":\"0.000401878994743886\",\"base_token_price_quote_token\":\"2488.311190878\",\"quote_token_price_base_token\":\"0.0004018789947\",\"address\":\"0x641c00a822e8b671738d32a431a4fb6074e5c79d\",\"name\":\"WETH / USDT 0.05%\",\"pool_created_at\":\"2022-02-07T15:10:40Z\",\"fdv_usd\":\"485904267.351916\",\"market_cap_usd\":\"483928653.530516\",\"price_change_percentage\":{\"m5\":\"0.06\",\"m15\":\"0.25\",\"m30\":\"0.59\",\"h1\":\"0.75\",\"h6\":\"-0.62\",\"h24\":\"-1.19\"},\"transactions\":{\"m5\":{\"buys\":13,\"sells\":54,\"buyers\":10,\"sellers\":17},\"m15\":{\"buys\":100,\"sells\":115,\"buyers\":40,\"sellers\":28},\"m30\":{\"buys\":261,\"sells\":287,\"buyers\":75,\"sellers\":66},\"h1\":{\"buys\":493,\"sells\":444,\"buyers\":118,\"sellers\":95},\"h6\":{\"buys\":3339,\"sells\":3393,\"buyers\":306,\"sellers\":239},\"h24\":{\"buys\":12156,\"sells\":12144,\"buyers\":684,\"sellers\":579}},\"volume_usd\":{\"m5\":\"77305.0387168864\",\"m15\":\"253345.851008473\",\"m30\":\"637755.643142581\",\"h1\":\"1034869.98037592\",\"h6\":\"7012578.25347982\",\"h24\":\"30170578.1886223\"},\"reserve_in_usd\":\"10755644.0698\"},\"relationships\":{\"base_token\":{\"data\":{\"id\":\"arbitrum_0x82af49447d8a07e3bd95bd0d56f35241523fbab1\",\"type\":\"token\"}},\"quote_token\":{\"data\":{\"id\":\"arbitrum_0xfd086bc7cd5c481dcc9c85ebe478a1c0b69fcbb9\",\"type\":\"token\"}},\"dex\":{\"data\":{\"id\":\"uniswap_v3_arbitrum\",\"type\":\"dex\"}}}},{\"id\":\"arbitrum_0x2f5e87c9312fa29aed5c179e456625d79015299c\",\"type\":\"pool\",\"attributes\":{\"base_token_price_usd\":\"105853.324056788\",\"base_token_price_native_currency\":\"42.440552772335\",\"quote_token_price_usd\":\"2494.15\",\"quote_token_price_native_currency\":\"1.0\",\"base_token_price_quote_token\":\"42.4405527723\",\"quote_token_price_base_token\":\"0.02356236983\",\"address\":\"0x2f5e87c9312fa29aed5c179e456625d79015299c\",\"name\":\"WBTC / WETH 0.05%\",\"pool_created_at\":\"2022-02-07T15:13:14Z\",\"fdv_usd\":\"864074907.733701\",\"market_cap_usd\":\"862671833.792531\",\"price_change_percentage\":{\"m5\":\"0.27\",\"m15\":\"0.23\",\"m30\":\"0.89\",\"h1\":\"0.79\",\"h6\":\"1.04\",\"h24\":\"0.82\"},\"transactions\":{\"m5\":{\"buys\":58,\"sells\":2,\"buyers\":20,\"sellers\":2},\"m15\":{\"buys\":88,\"sells\":80,\"buyers\":33,\"sellers\":36},\"m30\":{\"buys\":240,\"sells\":157,\"buyers\":91,\"sellers\":70},\"h1\":{\"buys\":347,\"sells\":282,\"buyers\":107,\"sellers\":107},\"h6\":{\"buys\":3141,\"sells\":2087,\"buyers\":388,\"sellers\":313},\"h24\":{\"buys\":11641,\"sells\":10039,\"buyers\":686,\"sellers\":661}},\"volume_usd\":{\"m5\":\"154193.591068662\",\"m15\":\"467259.171629349\",\"m30\":\"1193674.80944094\",\"h1\":\"1683351.28493\",\"h6\":\"17618866.5905649\",\"h24\":\"79882023.8081639\"},\"reserve_in_usd\":\"41028240.394\"},\"relationships\":{\"base_token\":{\"data\":{\"id\":\"arbitrum_0x2f2a2543b76a4166549f7aab2e75bef0aefc5b0f\",\"type\":\"token\"}},\"quote_token\":{\"data\":{\"id\":\"arbitrum_0x82af49447d8a07e3bd95bd0d56f35241523fbab1\",\"type\":\"token\"}},\"dex\":{\"data\":{\"id\":\"uniswap_v3_arbitrum\",\"type\":\"dex\"}}}},{\"id\":\"arbitrum_0x4bfc22a4da7f31f8a912a79a7e44a822398b4390\",\"type\":\"pool\",\"attributes\":{\"base_token_price_usd\":\"105854.509944185\",\"base_token_price_native_currency\":\"42.4406407220045\",\"quote_token_price_usd\":\"2494.34\",\"quote_token_price_native_currency\":\"1.0\",\"base_token_price_quote_token\":\"42.440640722\",\"quote_token_price_base_token\":\"0.023562321\",\"address\":\"0x4bfc22a4da7f31f8a912a79a7e44a822398b4390\",\"name\":\"WBTC / WETH 0.01%\",\"pool_created_at\":\"2024-04-24T07:30:34Z\",\"fdv_usd\":\"864084588.067808\",\"market_cap_usd\":\"862671833.792531\",\"price_change_percentage\":{\"m5\":\"0.21\",\"m15\":\"0.31\",\"m30\":\"0.87\",\"h1\":\"0.88\",\"h6\":\"0.97\",\"h24\":\"0.82\"},\"transactions\":{\"m5\":{\"buys\":23,\"sells\":15,\"buyers\":10,\"sellers\":7},\"m15\":{\"buys\":72,\"sells\":75,\"buyers\":23,\"sellers\":27},\"m30\":{\"buys\":197,\"sells\":207,\"buyers\":57,\"sellers\":67},\"h1\":{\"buys\":311,\"sells\":332,\"buyers\":88,\"sellers\":102},\"h6\":{\"buys\":2145,\"sells\":2130,\"buyers\":288,\"sellers\":282},\"h24\":{\"buys\":8589,\"sells\":8609,\"buyers\":677,\"sellers\":705}},\"volume_usd\":{\"m5\":\"35692.2972305763\",\"m15\":\"108583.621005769\",\"m30\":\"290899.747747658\",\"h1\":\"421836.96248826\",\"h6\":\"3048384.63485796\",\"h24\":\"12399385.7283745\"},\"reserve_in_usd\":\"1271464.1233\"},\"relationships\":{\"base_token\":{\"data\":{\"id\":\"arbitrum_0x2f2a2543b76a4166549f7aab2e75bef0aefc5b0f\",\"type\":\"token\"}},\"quote_token\":{\"data\":{\"id\":\"arbitrum_0x82af49447d8a07e3bd95bd0d56f35241523fbab1\",\"type\":\"token\"}},\"dex\":{\"data\":{\"id\":\"pancakeswap-v3-arbitrum\",\"type\":\"dex\"}}}},{\"id\":\"arbitrum_0x0e4831319a50228b9e450861297ab92dee15b44f\",\"type\":\"pool\",\"attributes\":{\"base_token_price_usd\":\"1.00184251489473\",\"base_token_price_native_currency\":\"0.00040172041754003\",\"quote_token_price_usd\":\"105841.865083793\",\"quote_token_price_native_currency\":\"42.4406407220045\",\"base_token_price_quote_token\":\"0.000009465465429\",\"quote_token_price_base_token\":\"105647.208528492\",\"address\":\"0x0e4831319a50228b9e450861297ab92dee15b44f\",\"name\":\"USDC / WBTC 0.05%\",\"pool_created_at\":\"2023-06-28T12:07:23Z\",\"fdv_usd\":\"4349386533.14374\",\"market_cap_usd\":\"60637468660.8295\",\"price_change_percentage\":{\"m5\":\"0.22\",\"m15\":\"0.2\",\"m30\":\"0.48\",\"h1\":\"0.35\",\"h6\":\"0.44\",\"h24\":\"0.02\"},\"transactions\":{\"m5\":{\"buys\":33,\"sells\":1,\"buyers\":14,\"sellers\":1},\"m15\":{\"buys\":50,\"sells\":67,\"buyers\":16,\"sellers\":23},\"m30\":{\"buys\":117,\"sells\":348,\"buyers\":40,\"sellers\":70},\"h1\":{\"buys\":207,\"sells\":496,\"buyers\":53,\"sellers\":114},\"h6\":{\"buys\":1844,\"sells\":2179,\"buyers\":198,\"sellers\":256},\"h24\":{\"buys\":6776,\"sells\":7101,\"buyers\":454,\"sellers\":530}},\"volume_usd\":{\"m5\":\"123572.375656684\",\"m15\":\"406159.303110387\",\"m30\":\"1842100.34205123\",\"h1\":\"2590455.81241597\",\"h6\":\"14142433.8031279\",\"h24\":\"51961545.1480128\"},\"reserve_in_usd\":\"10470504.5542\"},\"relationships\":{\"base_token\":{\"data\":{\"id\":\"arbitrum_0xaf88d065e77c8cc2239327c5edb3a432268e5831\",\"type\":\"token\"}},\"quote_token\":{\"data\":{\"id\":\"arbitrum_0x2f2a2543b76a4166549f7aab2e75bef0aefc5b0f\",\"type\":\"token\"}},\"dex\":{\"data\":{\"id\":\"uniswap_v3_arbitrum\",\"type\":\"dex\"}}}},{\"id\":\"arbitrum_0x42161084d0672e1d3f26a9b53e653be2084ff19c\",\"type\":\"pool\",\"attributes\":{\"base_token_price_usd\":\"2494.34\",\"base_token_price_native_currency\":\"1.0\",\"quote_token_price_usd\":\"1.00139578685365\",\"quote_token_price_native_currency\":\"0.000401673652610772\",\"base_token_price_quote_token\":\"2489.583256209\",\"quote_token_price_base_token\":\"0.0004016736526\",\"address\":\"0x42161084d0672e1d3f26a9b53e653be2084ff19c\",\"name\":\"WETH / USDT 0.01%\",\"pool_created_at\":\"2023-03-08T11:17:57Z\",\"fdv_usd\":\"485993893.141041\",\"market_cap_usd\":\"483928653.530516\",\"price_change_percentage\":{\"m5\":\"0.07\",\"m15\":\"0.26\",\"m30\":\"0.6\",\"h1\":\"0.76\",\"h6\":\"-0.61\",\"h24\":\"-1.18\"},\"transactions\":{\"m5\":{\"buys\":7,\"sells\":5,\"buyers\":1,\"sellers\":5},\"m15\":{\"buys\":123,\"sells\":16,\"buyers\":3,\"sellers\":13},\"m30\":{\"buys\":274,\"sells\":37,\"buyers\":3,\"sellers\":28},\"h1\":{\"buys\":557,\"sells\":59,\"buyers\":4,\"sellers\":44},\"h6\":{\"buys\":3456,\"sells\":375,\"buyers\":31,\"sellers\":227},\"h24\":{\"buys\":12186,\"sells\":1270,\"buyers\":83,\"sellers\":674}},\"volume_usd\":{\"m5\":\"50.997550612\",\"m15\":\"222.369220179\",\"m30\":\"554.5089263384\",\"h1\":\"888.4330586676\",\"h6\":\"7532.6364529978\",\"h24\":\"28915.3758536166\"},\"reserve_in_usd\":\"37724.0188\"},\"relationships\":{\"base_token\":{\"data\":{\"id\":\"arbitrum_0x82af49447d8a07e3bd95bd0d56f35241523fbab1\",\"type\":\"token\"}},\"quote_token\":{\"data\":{\"id\":\"arbitrum_0xfd086bc7cd5c481dcc9c85ebe478a1c0b69fcbb9\",\"type\":\"token\"}},\"dex\":{\"data\":{\"id\":\"uniswap_v3_arbitrum\",\"type\":\"dex\"}}}},{\"id\":\"arbitrum_0xc31e54c7a869b9fcbecc14363cf510d1c41fa443\",\"type\":\"pool\",\"attributes\":{\"base_token_price_usd\":\"2494.15\",\"base_token_price_native_currency\":\"1.0\",\"quote_token_price_usd\":\"1.00188290201931\",\"quote_token_price_native_currency\":\"0.000401671819782532\",\"base_token_price_quote_token\":\"2489.594616175\",\"quote_token_price_base_token\":\"0.0004016718198\",\"address\":\"0xc31e54c7a869b9fcbecc14363cf510d1c41fa443\",\"name\":\"WETH / USDC 0.05%\",\"pool_created_at\":\"2022-02-07T15:10:59Z\",\"fdv_usd\":\"485956873.793359\",\"market_cap_usd\":\"483928653.530516\",\"price_change_percentage\":{\"m5\":\"0\",\"m15\":\"0.25\",\"m30\":\"0.59\",\"h1\":\"0.75\",\"h6\":\"-0.62\",\"h24\":\"-1.19\"},\"transactions\":{\"m5\":{\"buys\":5,\"sells\":36,\"buyers\":3,\"sellers\":20},\"m15\":{\"buys\":27,\"sells\":61,\"buyers\":6,\"sellers\":27},\"m30\":{\"buys\":116,\"sells\":165,\"buyers\":11,\"sellers\":44},\"h1\":{\"buys\":190,\"sells\":223,\"buyers\":22,\"sellers\":45},\"h6\":{\"buys\":1433,\"sells\":1824,\"buyers\":134,\"sellers\":115},\"h24\":{\"buys\":5869,\"sells\":7139,\"buyers\":421,\"sellers\":304}},\"volume_usd\":{\"m5\":\"12363.6264644479\",\"m15\":\"38519.3378427559\",\"m30\":\"103967.535860345\",\"h1\":\"158549.519783791\",\"h6\":\"1213558.23192055\",\"h24\":\"4951932.25489858\"},\"reserve_in_usd\":\"2332162.44\"},\"relationships\":{\"base_token\":{\"data\":{\"id\":\"arbitrum_0x82af49447d8a07e3bd95bd0d56f35241523fbab1\",\"type\":\"token\"}},\"quote_token\":{\"data\":{\"id\":\"arbitrum_0xff970a61a04b1ca14834a43f5de4533ebddb5cc8\",\"type\":\"token\"}},\"dex\":{\"data\":{\"id\":\"uniswap_v3_arbitrum\",\"type\":\"dex\"}}}},{\"id\":\"arbitrum_0xcda53b1f66614552f834ceef361a8d12a0b8dad8\",\"type\":\"pool\",\"attributes\":{\"base_token_price_usd\":\"0.389693749669101\",\"base_token_price_native_currency\":\"0.00015606931949712\",\"quote_token_price_usd\":\"1.00177444487618\",\"quote_token_price_native_currency\":\"0.000401693122714878\",\"base_token_price_quote_token\":\"0.3885287317\",\"quote_token_price_base_token\":\"2.5738122266\",\"address\":\"0xcda53b1f66614552f834ceef361a8d12a0b8dad8\",\"name\":\"ARB / USDC 0.05%\",\"pool_created_at\":\"2023-03-20T19:40:12Z\",\"fdv_usd\":\"3896936502.92434\",\"market_cap_usd\":\"1893638284.4499\",\"price_change_percentage\":{\"m5\":\"-0.02\",\"m15\":\"0.43\",\"m30\":\"1.11\",\"h1\":\"1.32\",\"h6\":\"-0.06\",\"h24\":\"-0.24\"},\"transactions\":{\"m5\":{\"buys\":11,\"sells\":19,\"buyers\":6,\"sellers\":5},\"m15\":{\"buys\":59,\"sells\":41,\"buyers\":15,\"sellers\":9},\"m30\":{\"buys\":154,\"sells\":118,\"buyers\":25,\"sellers\":19},\"h1\":{\"buys\":263,\"sells\":223,\"buyers\":36,\"sellers\":26},\"h6\":{\"buys\":1831,\"sells\":1732,\"buyers\":113,\"sellers\":103},\"h24\":{\"buys\":6296,\"sells\":5922,\"buyers\":338,\"sellers\":201}},\"volume_usd\":{\"m5\":\"16329.7889852582\",\"m15\":\"58658.5098443414\",\"m30\":\"158303.469425492\",\"h1\":\"255960.846058165\",\"h6\":\"1798652.85528426\",\"h24\":\"6382907.61262705\"},\"reserve_in_usd\":\"1099446.6997\"},\"relationships\":{\"base_token\":{\"data\":{\"id\":\"arbitrum_0x912ce59144191c1204e64559fe8253a0e49e6548\",\"type\":\"token\"}},\"quote_token\":{\"data\":{\"id\":\"arbitrum_0xff970a61a04b1ca14834a43f5de4533ebddb5cc8\",\"type\":\"token\"}},\"dex\":{\"data\":{\"id\":\"uniswap_v3_arbitrum\",\"type\":\"dex\"}}}},{\"id\":\"arbitrum_0x11d53ec50bc8f54b9357fbfe2a7de034fc00f8b3\",\"type\":\"pool\",\"attributes\":{\"base_token_price_usd\":\"0.389409027110543\",\"base_token_price_native_currency\":\"0.00015606931949712\",\"quote_token_price_usd\":\"2494.15\",\"quote_token_price_native_currency\":\"1.0\",\"base_token_price_quote_token\":\"0.0001560693195\",\"quote_token_price_base_token\":\"6407.409241113\",\"address\":\"0x11d53ec50bc8f54b9357fbfe2a7de034fc00f8b3\",\"name\":\"ARB / WETH 0.01%\",\"pool_created_at\":\"2023-12-07T07:53:40Z\",\"fdv_usd\":\"3894089278.06483\",\"market_cap_usd\":\"1893638284.4499\",\"price_change_percentage\":{\"m5\":\"0\",\"m15\":\"0.44\",\"m30\":\"1.13\",\"h1\":\"1.14\",\"h6\":\"-0.03\",\"h24\":\"-0.32\"},\"transactions\":{\"m5\":{\"buys\":11,\"sells\":16,\"buyers\":3,\"sellers\":4},\"m15\":{\"buys\":40,\"sells\":49,\"buyers\":13,\"sellers\":12},\"m30\":{\"buys\":109,\"sells\":130,\"buyers\":29,\"sellers\":21},\"h1\":{\"buys\":193,\"sells\":215,\"buyers\":58,\"sellers\":55},\"h6\":{\"buys\":1451,\"sells\":1514,\"buyers\":223,\"sellers\":255},\"h24\":{\"buys\":5354,\"sells\":5708,\"buyers\":533,\"sellers\":583}},\"volume_usd\":{\"m5\":\"2716.0529355265\",\"m15\":\"9540.7751991114\",\"m30\":\"25167.6762365239\",\"h1\":\"46740.1869190357\",\"h6\":\"348110.727298192\",\"h24\":\"1277730.21799253\"},\"reserve_in_usd\":\"215427.0903\"},\"relationships\":{\"base_token\":{\"data\":{\"id\":\"arbitrum_0x912ce59144191c1204e64559fe8253a0e49e6548\",\"type\":\"token\"}},\"quote_token\":{\"data\":{\"id\":\"arbitrum_0x82af49447d8a07e3bd95bd0d56f35241523fbab1\",\"type\":\"token\"}},\"dex\":{\"data\":{\"id\":\"pancakeswap-v3-arbitrum\",\"type\":\"dex\"}}}},{\"id\":\"arbitrum_0xf3eb87c1f6020982173c908e7eb31aa66c1f0296\",\"type\":\"pool\",\"attributes\":{\"base_token_price_usd\":\"1.00192721364576\",\"base_token_price_native_currency\":\"0.00040168195327911\",\"quote_token_price_usd\":\"2494.15\",\"quote_token_price_native_currency\":\"1.0\",\"base_token_price_quote_token\":\"0.0004016819533\",\"quote_token_price_base_token\":\"2489.531809524\",\"address\":\"0xf3eb87c1f6020982173c908e7eb31aa66c1f0296\",\"name\":\"USDC / WETH 0.05%\",\"pool_created_at\":\"2023-07-06T21:11:05Z\",\"fdv_usd\":\"4349754243.23952\",\"market_cap_usd\":\"60637468660.8295\",\"price_change_percentage\":{\"m5\":\"0.39\",\"m15\":\"0.24\",\"m30\":\"0.5\",\"h1\":\"0.34\",\"h6\":\"0.5\",\"h24\":\"0.26\"},\"transactions\":{\"m5\":{\"buys\":21,\"sells\":5,\"buyers\":15,\"sellers\":3},\"m15\":{\"buys\":46,\"sells\":46,\"buyers\":20,\"sellers\":16},\"m30\":{\"buys\":124,\"sells\":138,\"buyers\":30,\"sellers\":30},\"h1\":{\"buys\":195,\"sells\":229,\"buyers\":33,\"sellers\":48},\"h6\":{\"buys\":1519,\"sells\":1444,\"buyers\":79,\"sellers\":113},\"h24\":{\"buys\":5392,\"sells\":5411,\"buyers\":153,\"sellers\":193}},\"volume_usd\":{\"m5\":\"11901.8656382464\",\"m15\":\"37980.1417548413\",\"m30\":\"98015.1029319456\",\"h1\":\"157314.135811557\",\"h6\":\"1187540.34959335\",\"h24\":\"4466591.11211953\"},\"reserve_in_usd\":\"2019240.5188\"},\"relationships\":{\"base_token\":{\"data\":{\"id\":\"arbitrum_0xaf88d065e77c8cc2239327c5edb3a432268e5831\",\"type\":\"token\"}},\"quote_token\":{\"data\":{\"id\":\"arbitrum_0x82af49447d8a07e3bd95bd0d56f35241523fbab1\",\"type\":\"token\"}},\"dex\":{\"data\":{\"id\":\"sushiswap-v3-arbitrum\",\"type\":\"dex\"}}}},{\"id\":\"arbitrum_0xb08a8794a5d3ccca3725d92964696858d3201909\",\"type\":\"pool\",\"attributes\":{\"base_token_price_usd\":\"4.41073210048496\",\"base_token_price_native_currency\":\"0.0017689152713401\",\"quote_token_price_usd\":\"2493.88\",\"quote_token_price_native_currency\":\"1.0\",\"base_token_price_quote_token\":\"0.001768915271\",\"quote_token_price_base_token\":\"565.318201613\",\"address\":\"0xb08a8794a5d3ccca3725d92964696858d3201909\",\"name\":\"PENDLE / WETH 0.05%\",\"pool_created_at\":\"2023-05-04T13:23:09Z\",\"fdv_usd\":\"132360500.52545\",\"market_cap_usd\":\"714153609.409851\",\"price_change_percentage\":{\"m5\":\"0.29\",\"m15\":\"0.78\",\"m30\":\"1.37\",\"h1\":\"1.3\",\"h6\":\"1.15\",\"h24\":\"7.32\"},\"transactions\":{\"m5\":{\"buys\":25,\"sells\":8,\"buyers\":8,\"sellers\":7},\"m15\":{\"buys\":50,\"sells\":19,\"buyers\":17,\"sellers\":12},\"m30\":{\"buys\":90,\"sells\":64,\"buyers\":21,\"sellers\":26},\"h1\":{\"buys\":130,\"sells\":109,\"buyers\":30,\"sellers\":48},\"h6\":{\"buys\":1128,\"sells\":1207,\"buyers\":156,\"sellers\":185},\"h24\":{\"buys\":5199,\"sells\":5599,\"buyers\":380,\"sellers\":476}},\"volume_usd\":{\"m5\":\"6663.2480343822\",\"m15\":\"15326.7592821932\",\"m30\":\"34194.7463989788\",\"h1\":\"58545.2222210964\",\"h6\":\"681012.070172603\",\"h24\":\"3571853.82773649\"},\"reserve_in_usd\":\"632842.4998\"},\"relationships\":{\"base_token\":{\"data\":{\"id\":\"arbitrum_0x0c880f6761f1af8d9aa9c466984b80dab9a8c9e8\",\"type\":\"token\"}},\"quote_token\":{\"data\":{\"id\":\"arbitrum_0x82af49447d8a07e3bd95bd0d56f35241523fbab1\",\"type\":\"token\"}},\"dex\":{\"data\":{\"id\":\"uniswap_v3_arbitrum\",\"type\":\"dex\"}}}},{\"id\":\"arbitrum_0xe88bba0ec2fc9091d68344b32b504abcc59f0aa9e1ae2ef048b69bc7ec3f4df8\",\"type\":\"pool\",\"attributes\":{\"base_token_price_usd\":\"2493.88\",\"base_token_price_native_currency\":\"1.0\",\"quote_token_price_usd\":\"1.00198851148363\",\"quote_token_price_native_currency\":\"0.000401673652610772\",\"base_token_price_quote_token\":\"2489.583256209\",\"quote_token_price_base_token\":\"0.0004016736526\",\"address\":\"0xe88bba0ec2fc9091d68344b32b504abcc59f0aa9e1ae2ef048b69bc7ec3f4df8\",\"name\":\"ETH / USDT 0.05%\",\"pool_created_at\":\"2025-01-30T13:13:46Z\",\"fdv_usd\":\"0.0\",\"market_cap_usd\":null,\"price_change_percentage\":{\"m5\":\"0.01\",\"m15\":\"0.27\",\"m30\":\"0.6\",\"h1\":\"0.76\",\"h6\":\"-0.61\",\"h24\":\"-1.18\"},\"transactions\":{\"m5\":{\"buys\":4,\"sells\":29,\"buyers\":4,\"sellers\":9},\"m15\":{\"buys\":55,\"sells\":48,\"buyers\":13,\"sellers\":12},\"m30\":{\"buys\":132,\"sells\":116,\"buyers\":27,\"sellers\":23},\"h1\":{\"buys\":244,\"sells\":203,\"buyers\":46,\"sellers\":44},\"h6\":{\"buys\":1503,\"sells\":1421,\"buyers\":173,\"sellers\":167},\"h24\":{\"buys\":5354,\"sells\":5287,\"buyers\":517,\"sellers\":439}},\"volume_usd\":{\"m5\":\"27178.2496199847\",\"m15\":\"82274.8025562299\",\"m30\":\"214037.962937888\",\"h1\":\"355761.382719464\",\"h6\":\"2692944.71422485\",\"h24\":\"9943796.40493079\"},\"reserve_in_usd\":\"2849428.1991\"},\"relationships\":{\"base_token\":{\"data\":{\"id\":\"arbitrum_0x0000000000000000000000000000000000000000\",\"type\":\"token\"}},\"quote_token\":{\"data\":{\"id\":\"arbitrum_0xfd086bc7cd5c481dcc9c85ebe478a1c0b69fcbb9\",\"type\":\"token\"}},\"dex\":{\"data\":{\"id\":\"uniswap-v4-arbitrum\",\"type\":\"dex\"}}}},{\"id\":\"arbitrum_0x7cccba38e2d959fe135e79aebb57ccb27b128358\",\"type\":\"pool\",\"attributes\":{\"base_token_price_usd\":\"2493.88\",\"base_token_price_native_currency\":\"1.0\",\"quote_token_price_usd\":\"1.00208856609951\",\"quote_token_price_native_currency\":\"0.000401489700378467\",\"base_token_price_quote_token\":\"2490.723919088\",\"quote_token_price_base_token\":\"0.0004014897004\",\"address\":\"0x7cccba38e2d959fe135e79aebb57ccb27b128358\",\"name\":\"WETH / USDT 0.01%\",\"pool_created_at\":\"2023-06-28T12:26:30Z\",\"fdv_usd\":\"485904267.351916\",\"market_cap_usd\":\"483928653.530516\",\"price_change_percentage\":{\"m5\":\"0.06\",\"m15\":\"0.26\",\"m30\":\"0.59\",\"h1\":\"0.75\",\"h6\":\"-0.61\",\"h24\":\"-1.19\"},\"transactions\":{\"m5\":{\"buys\":12,\"sells\":18,\"buyers\":8,\"sellers\":5},\"m15\":{\"buys\":57,\"sells\":56,\"buyers\":24,\"sellers\":13},\"m30\":{\"buys\":134,\"sells\":132,\"buyers\":39,\"sellers\":22},\"h1\":{\"buys\":218,\"sells\":200,\"buyers\":50,\"sellers\":41},\"h6\":{\"buys\":1420,\"sells\":1373,\"buyers\":225,\"sellers\":198},\"h24\":{\"buys\":5324,\"sells\":5245,\"buyers\":580,\"sellers\":592}},\"volume_usd\":{\"m5\":\"3465.2836938419\",\"m15\":\"11802.8275306918\",\"m30\":\"27631.7068700734\",\"h1\":\"44570.2112993299\",\"h6\":\"299397.662018034\",\"h24\":\"1157779.21533163\"},\"reserve_in_usd\":\"127009.3182\"},\"relationships\":{\"base_token\":{\"data\":{\"id\":\"arbitrum_0x82af49447d8a07e3bd95bd0d56f35241523fbab1\",\"type\":\"token\"}},\"quote_token\":{\"data\":{\"id\":\"arbitrum_0xfd086bc7cd5c481dcc9c85ebe478a1c0b69fcbb9\",\"type\":\"token\"}},\"dex\":{\"data\":{\"id\":\"camelot-v3\",\"type\":\"dex\"}}}},{\"id\":\"arbitrum_0xd845f7d4f4deb9ff5bcf09d140ef13718f6f6c71\",\"type\":\"pool\",\"attributes\":{\"base_token_price_usd\":\"105853.532261816\",\"base_token_price_native_currency\":\"42.4351006046332\",\"quote_token_price_usd\":\"2494.34\",\"quote_token_price_native_currency\":\"1.0\",\"base_token_price_quote_token\":\"42.4351006046\",\"quote_token_price_base_token\":\"0.02356539718\",\"address\":\"0xd845f7d4f4deb9ff5bcf09d140ef13718f6f6c71\",\"name\":\"WBTC / WETH 0.01%\",\"pool_created_at\":\"2023-06-28T09:06:38Z\",\"fdv_usd\":\"864076607.299983\",\"market_cap_usd\":\"862671833.792531\",\"price_change_percentage\":{\"m5\":\"0.2\",\"m15\":\"0.3\",\"m30\":\"0.86\",\"h1\":\"0.86\",\"h6\":\"0.94\",\"h24\":\"0.82\"},\"transactions\":{\"m5\":{\"buys\":16,\"sells\":8,\"buyers\":8,\"sellers\":2},\"m15\":{\"buys\":45,\"sells\":45,\"buyers\":17,\"sellers\":12},\"m30\":{\"buys\":126,\"sells\":133,\"buyers\":40,\"sellers\":40},\"h1\":{\"buys\":191,\"sells\":199,\"buyers\":64,\"sellers\":64},\"h6\":{\"buys\":1398,\"sells\":1239,\"buyers\":246,\"sellers\":203},\"h24\":{\"buys\":5457,\"sells\":5093,\"buyers\":607,\"sellers\":532}},\"volume_usd\":{\"m5\":\"19179.0917905612\",\"m15\":\"57835.3175583192\",\"m30\":\"163684.350582692\",\"h1\":\"225075.726366463\",\"h6\":\"1363405.61214096\",\"h24\":\"5901017.74653671\"},\"reserve_in_usd\":\"774107.3402\"},\"relationships\":{\"base_token\":{\"data\":{\"id\":\"arbitrum_0x2f2a2543b76a4166549f7aab2e75bef0aefc5b0f\",\"type\":\"token\"}},\"quote_token\":{\"data\":{\"id\":\"arbitrum_0x82af49447d8a07e3bd95bd0d56f35241523fbab1\",\"type\":\"token\"}},\"dex\":{\"data\":{\"id\":\"camelot-v3\",\"type\":\"dex\"}}}},{\"id\":\"arbitrum_0x864abca0a6202dba5b8868772308da953ff125b0f95015adbf89aaf579e903a8\",\"type\":\"pool\",\"attributes\":{\"base_token_price_usd\":\"2494.34\",\"base_token_price_native_currency\":\"1.0\",\"quote_token_price_usd\":\"1.00168840203568\",\"quote_token_price_native_currency\":\"0.000401500991038901\",\"base_token_price_quote_token\":\"2490.653877124\",\"quote_token_price_base_token\":\"0.000401500991\",\"address\":\"0x864abca0a6202dba5b8868772308da953ff125b0f95015adbf89aaf579e903a8\",\"name\":\"ETH / USDC 0.05%\",\"pool_created_at\":\"2025-01-30T00:55:56Z\",\"fdv_usd\":\"0.0\",\"market_cap_usd\":null,\"price_change_percentage\":{\"m5\":\"0.01\",\"m15\":\"0.27\",\"m30\":\"0.6\",\"h1\":\"0.74\",\"h6\":\"-0.61\",\"h24\":\"-1.18\"},\"transactions\":{\"m5\":{\"buys\":1,\"sells\":18,\"buyers\":1,\"sellers\":6},\"m15\":{\"buys\":37,\"sells\":34,\"buyers\":9,\"sellers\":8},\"m30\":{\"buys\":108,\"sells\":82,\"buyers\":21,\"sellers\":15},\"h1\":{\"buys\":186,\"sells\":144,\"buyers\":31,\"sellers\":27},\"h6\":{\"buys\":1344,\"sells\":1381,\"buyers\":126,\"sellers\":194},\"h24\":{\"buys\":5082,\"sells\":5220,\"buyers\":414,\"sellers\":500}},\"volume_usd\":{\"m5\":\"20470.7158619179\",\"m15\":\"71897.034823449\",\"m30\":\"191870.326150026\",\"h1\":\"328399.324429254\",\"h6\":\"2488116.72138055\",\"h24\":\"9449630.06636085\"},\"reserve_in_usd\":\"3651151.7657\"},\"relationships\":{\"base_token\":{\"data\":{\"id\":\"arbitrum_0x0000000000000000000000000000000000000000\",\"type\":\"token\"}},\"quote_token\":{\"data\":{\"id\":\"arbitrum_0xaf88d065e77c8cc2239327c5edb3a432268e5831\",\"type\":\"token\"}},\"dex\":{\"data\":{\"id\":\"uniswap-v4-arbitrum\",\"type\":\"dex\"}}}},{\"id\":\"arbitrum_0x81c65eed50dea2dc3c3cf195fb4ba020a3abe8f4\",\"type\":\"pool\",\"attributes\":{\"base_token_price_usd\":\"1.15265980841651\",\"base_token_price_native_currency\":\"0.000462139016692218182415743397082\",\"quote_token_price_usd\":\"1.00223798741188\",\"quote_token_price_native_currency\":\"0.000401878994743886\",\"base_token_price_quote_token\":\"1.149945687\",\"quote_token_price_base_token\":\"0.8696062878\",\"address\":\"0x81c65eed50dea2dc3c3cf195fb4ba020a3abe8f4\",\"name\":\"EURC / USDT 0.01%\",\"pool_created_at\":\"2025-05-17T00:26:39Z\",\"fdv_usd\":\"23053196168.3302\",\"market_cap_usd\":null,\"price_change_percentage\":{\"m5\":\"0.37\",\"m15\":\"0.32\",\"m30\":\"0.49\",\"h1\":\"0.25\",\"h6\":\"0.38\",\"h24\":\"0.28\"},\"transactions\":{\"m5\":{\"buys\":10,\"sells\":10,\"buyers\":8,\"sellers\":8},\"m15\":{\"buys\":42,\"sells\":42,\"buyers\":8,\"sellers\":8},\"m30\":{\"buys\":83,\"sells\":88,\"buyers\":8,\"sellers\":8},\"h1\":{\"buys\":174,\"sells\":186,\"buyers\":8,\"sellers\":8},\"h6\":{\"buys\":1050,\"sells\":1128,\"buyers\":8,\"sellers\":8},\"h24\":{\"buys\":4250,\"sells\":4591,\"buyers\":9,\"sellers\":9}},\"volume_usd\":{\"m5\":\"492.2004265947\",\"m15\":\"2060.5638274448\",\"m30\":\"4183.640252585\",\"h1\":\"8809.7502628351\",\"h6\":\"53408.1301403793\",\"h24\":\"216789.70815015\"},\"reserve_in_usd\":\"1242.3361\"},\"relationships\":{\"base_token\":{\"data\":{\"id\":\"arbitrum_0x31094ed0f645dbd5efb6aca5b9a05e8ee0efb386\",\"type\":\"token\"}},\"quote_token\":{\"data\":{\"id\":\"arbitrum_0xfd086bc7cd5c481dcc9c85ebe478a1c0b69fcbb9\",\"type\":\"token\"}},\"dex\":{\"data\":{\"id\":\"pancakeswap-v3-arbitrum\",\"type\":\"dex\"}}}}]}\n"
     ]
    }
   ],
   "source": [
    "\n",
    "url = \"https://pro-api.coingecko.com/api/v3/onchain/networks/arbitrum/pools/\"\n",
    "\n",
    "headers = {\n",
    "           \"accept\": \"application/json\",\n",
    "           \"x-cg-pro-api-key\": api_key\n",
    "           }\n",
    "\n",
    "response = requests.get(url, headers=headers)\n",
    "\n",
    "data = response.json()\n",
    "\n",
    "\n",
    "\n",
    "print(response.status_code)\n",
    "print(response.text)"
   ]
  },
  {
   "cell_type": "code",
   "execution_count": 142,
   "id": "a7b13b12",
   "metadata": {},
   "outputs": [
    {
     "name": "stdout",
     "output_type": "stream",
     "text": [
      "  base_token_price_usd base_token_price_native_currency quote_token_price_usd quote_token_price_native_currency base_token_price_quote_token quote_token_price_base_token  \\\n",
      "0      1.0017057214403              0.00040172041754003               2493.88                               1.0              0.0004017204175                2489.29343976   \n",
      "1     1.00151473205561              0.00040172041754003               2493.88                               1.0              0.0004017204175                2489.29343976   \n",
      "2      1.0017428747737              0.00040172041754003               2493.88                               1.0              0.0004017204175                2489.29343976   \n",
      "3     1.00195097940747              0.00040168195327911               2494.15                               1.0              0.0004016819533               2489.531809524   \n",
      "4              2493.88                              1.0      1.00210627738907              0.000401878994743886               2488.311190878              0.0004018789947   \n",
      "\n",
      "                                      address               name       pool_created_at           fdv_usd    market_cap_usd  \\\n",
      "0  0x6f38e884725a116c9c7fbf208e79fe8828a2595f  USDC / WETH 0.01%  2023-06-10T16:44:01Z  4348792659.75579  60637468660.8295   \n",
      "1  0x7fcdc35463e3770c2fb992716cd070b63540b947  USDC / WETH 0.01%  2023-08-11T20:55:44Z   4347963500.8357  60637468660.8295   \n",
      "2  0xb1026b8e7276e7ac75410f1fcbbe21796e8f7526  USDC / WETH 0.01%  2023-06-23T02:23:53Z  4348953956.77158  60637468660.8295   \n",
      "3  0xc6962004f452be9203591991d15f6b388e09e8d0  USDC / WETH 0.05%  2023-06-08T21:28:24Z  4349857419.61943  60637468660.8295   \n",
      "4  0x389938cf14be379217570d8e4619e51fbdafaa21  WETH / USDT 0.01%  2023-08-13T11:14:42Z  485904267.351916  483928653.530516   \n",
      "\n",
      "                                                                    price_change_percentage  \\\n",
      "0   {'m5': '0.26', 'm15': '0.26', 'm30': '0.43', 'h1': '0.21', 'h6': '0.39', 'h24': '0.18'}   \n",
      "1    {'m5': '0.27', 'm15': '0.27', 'm30': '0.45', 'h1': '0.22', 'h6': '0.39', 'h24': '0.2'}   \n",
      "2     {'m5': '0.3', 'm15': '0.3', 'm30': '0.47', 'h1': '0.26', 'h6': '0.43', 'h24': '0.25'}   \n",
      "3   {'m5': '0.34', 'm15': '0.25', 'm30': '0.49', 'h1': '0.35', 'h6': '0.39', 'h24': '0.28'}   \n",
      "4  {'m5': '0.05', 'm15': '0.25', 'm30': '0.58', 'h1': '0.74', 'h6': '-0.62', 'h24': '-1.2'}   \n",
      "\n",
      "                                                                                                                                                                                                                                                                                                                                                                                                                 transactions  \\\n",
      "0  {'m5': {'buys': 169, 'sells': 142, 'buyers': 53, 'sellers': 39}, 'm15': {'buys': 530, 'sells': 443, 'buyers': 103, 'sellers': 79}, 'm30': {'buys': 1346, 'sells': 1026, 'buyers': 174, 'sellers': 122}, 'h1': {'buys': 2105, 'sells': 1668, 'buyers': 225, 'sellers': 186}, 'h6': {'buys': 12166, 'sells': 10407, 'buyers': 659, 'sellers': 647}, 'h24': {'buys': 43698, 'sells': 37610, 'buyers': 1767, 'sellers': 1572}}   \n",
      "1          {'m5': {'buys': 128, 'sells': 74, 'buyers': 28, 'sellers': 22}, 'm15': {'buys': 380, 'sells': 272, 'buyers': 53, 'sellers': 42}, 'm30': {'buys': 923, 'sells': 702, 'buyers': 87, 'sellers': 69}, 'h1': {'buys': 1404, 'sells': 1145, 'buyers': 116, 'sellers': 113}, 'h6': {'buys': 9039, 'sells': 7930, 'buyers': 411, 'sellers': 440}, 'h24': {'buys': 33166, 'sells': 29324, 'buyers': 1184, 'sellers': 1003}}   \n",
      "2           {'m5': {'buys': 132, 'sells': 99, 'buyers': 32, 'sellers': 30}, 'm15': {'buys': 354, 'sells': 329, 'buyers': 53, 'sellers': 56}, 'm30': {'buys': 850, 'sells': 784, 'buyers': 84, 'sellers': 98}, 'h1': {'buys': 1392, 'sells': 1315, 'buyers': 125, 'sellers': 163}, 'h6': {'buys': 8527, 'sells': 8285, 'buyers': 389, 'sellers': 430}, 'h24': {'buys': 30129, 'sells': 29016, 'buyers': 1024, 'sellers': 978}}   \n",
      "3              {'m5': {'buys': 94, 'sells': 22, 'buyers': 41, 'sellers': 11}, 'm15': {'buys': 201, 'sells': 191, 'buyers': 60, 'sellers': 49}, 'm30': {'buys': 500, 'sells': 502, 'buyers': 101, 'sellers': 94}, 'h1': {'buys': 786, 'sells': 847, 'buyers': 134, 'sellers': 150}, 'h6': {'buys': 5526, 'sells': 5365, 'buyers': 358, 'sellers': 402}, 'h24': {'buys': 20564, 'sells': 20283, 'buyers': 884, 'sellers': 885}}   \n",
      "4              {'m5': {'buys': 59, 'sells': 85, 'buyers': 18, 'sellers': 19}, 'm15': {'buys': 202, 'sells': 212, 'buyers': 38, 'sellers': 35}, 'm30': {'buys': 444, 'sells': 548, 'buyers': 56, 'sellers': 77}, 'h1': {'buys': 784, 'sells': 848, 'buyers': 87, 'sellers': 119}, 'h6': {'buys': 5346, 'sells': 5423, 'buyers': 424, 'sellers': 418}, 'h24': {'buys': 19266, 'sells': 20673, 'buyers': 1028, 'sellers': 1074}}   \n",
      "\n",
      "                                                                                                                                                        volume_usd reserve_in_usd  \\\n",
      "0    {'m5': '177321.244970361', 'm15': '576213.932593956', 'm30': '1596773.50073634', 'h1': '2364979.21212265', 'h6': '11932608.132924', 'h24': '42827584.819629'}    1957488.808   \n",
      "1  {'m5': '100352.460462038', 'm15': '313646.983789882', 'm30': '866339.514314589', 'h1': '1346632.49277062', 'h6': '8308902.76103169', 'h24': '31384905.7282423'}   1695578.2883   \n",
      "2   {'m5': '110466.522069082', 'm15': '321378.364463521', 'm30': '848327.82566854', 'h1': '1616810.23142623', 'h6': '9307871.14251873', 'h24': '30937660.6149027'}   1953373.4072   \n",
      "3  {'m5': '578518.729583967', 'm15': '1850873.52526616', 'm30': '4871330.30134015', 'h1': '7837761.02464825', 'h6': '50044623.5041001', 'h24': '190544990.225699'}  49600241.9557   \n",
      "4    {'m5': '31296.214408358', 'm15': '85432.7499405387', 'm30': '218638.20530231', 'h1': '371344.569927469', 'h6': '2338711.56758103', 'h24': '9387496.39361602'}    985761.9068   \n",
      "\n",
      "                                                    id                                        base_token_id                                       quote_token_id                   dex_id  \n",
      "0  arbitrum_0x6f38e884725a116c9c7fbf208e79fe8828a2595f  arbitrum_0xaf88d065e77c8cc2239327c5edb3a432268e5831  arbitrum_0x82af49447d8a07e3bd95bd0d56f35241523fbab1      uniswap_v3_arbitrum  \n",
      "1  arbitrum_0x7fcdc35463e3770c2fb992716cd070b63540b947  arbitrum_0xaf88d065e77c8cc2239327c5edb3a432268e5831  arbitrum_0x82af49447d8a07e3bd95bd0d56f35241523fbab1  pancakeswap-v3-arbitrum  \n",
      "2  arbitrum_0xb1026b8e7276e7ac75410f1fcbbe21796e8f7526  arbitrum_0xaf88d065e77c8cc2239327c5edb3a432268e5831  arbitrum_0x82af49447d8a07e3bd95bd0d56f35241523fbab1               camelot-v3  \n",
      "3  arbitrum_0xc6962004f452be9203591991d15f6b388e09e8d0  arbitrum_0xaf88d065e77c8cc2239327c5edb3a432268e5831  arbitrum_0x82af49447d8a07e3bd95bd0d56f35241523fbab1      uniswap_v3_arbitrum  \n",
      "4  arbitrum_0x389938cf14be379217570d8e4619e51fbdafaa21  arbitrum_0x82af49447d8a07e3bd95bd0d56f35241523fbab1  arbitrum_0xfd086bc7cd5c481dcc9c85ebe478a1c0b69fcbb9  pancakeswap-v3-arbitrum  \n"
     ]
    }
   ],
   "source": [
    "pool_data = data[\"data\"]\n",
    "flattened = []\n",
    "\n",
    "for pool in pool_data:\n",
    "    entry = pool[\"attributes\"].copy()\n",
    "    entry[\"id\"] = pool[\"id\"]\n",
    "    entry[\"base_token_id\"] = pool[\"relationships\"][\"base_token\"][\"data\"][\"id\"]\n",
    "    entry[\"quote_token_id\"] = pool[\"relationships\"][\"quote_token\"][\"data\"][\"id\"]\n",
    "    entry[\"dex_id\"] = pool[\"relationships\"][\"dex\"][\"data\"][\"id\"]\n",
    "    flattened.append(entry)\n",
    "\n",
    "\n",
    "df = pd.DataFrame(flattened)\n",
    "\n",
    "\n",
    "print(df.head())\n",
    "#print(df)"
   ]
  },
  {
   "cell_type": "code",
   "execution_count": 143,
   "id": "5225e538",
   "metadata": {},
   "outputs": [
    {
     "data": {
      "text/plain": [
       "['base_token_price_usd',\n",
       " 'base_token_price_native_currency',\n",
       " 'quote_token_price_usd',\n",
       " 'quote_token_price_native_currency',\n",
       " 'base_token_price_quote_token',\n",
       " 'quote_token_price_base_token',\n",
       " 'address',\n",
       " 'name',\n",
       " 'pool_created_at',\n",
       " 'fdv_usd',\n",
       " 'market_cap_usd',\n",
       " 'price_change_percentage',\n",
       " 'transactions',\n",
       " 'volume_usd',\n",
       " 'reserve_in_usd',\n",
       " 'id',\n",
       " 'base_token_id',\n",
       " 'quote_token_id',\n",
       " 'dex_id']"
      ]
     },
     "execution_count": 143,
     "metadata": {},
     "output_type": "execute_result"
    }
   ],
   "source": [
    "df.columns.to_list()"
   ]
  },
  {
   "cell_type": "code",
   "execution_count": 144,
   "id": "5b7838e3",
   "metadata": {},
   "outputs": [
    {
     "name": "stdout",
     "output_type": "stream",
     "text": [
      "   base_token_price_usd base_token_price_native_currency quote_token_price_usd quote_token_price_native_currency base_token_price_quote_token quote_token_price_base_token  \\\n",
      "0       1.0017057214403              0.00040172041754003               2493.88                               1.0              0.0004017204175                2489.29343976   \n",
      "3      1.00195097940747              0.00040168195327911               2494.15                               1.0              0.0004016819533               2489.531809524   \n",
      "5               2493.88                              1.0      1.00126713397985              0.000401878994743886               2488.311190878              0.0004018789947   \n",
      "6      105853.324056788                  42.440552772335               2494.15                               1.0                42.4405527723                0.02356236983   \n",
      "8      1.00184251489473              0.00040172041754003      105841.865083793                  42.4406407220045            0.000009465465429             105647.208528492   \n",
      "9               2494.34                              1.0      1.00139578685365              0.000401673652610772               2489.583256209              0.0004016736526   \n",
      "10              2494.15                              1.0      1.00188290201931              0.000401671819782532               2489.594616175              0.0004016718198   \n",
      "11    0.389693749669101              0.00015606931949712      1.00177444487618              0.000401693122714878                 0.3885287317                 2.5738122266   \n",
      "14     4.41073210048496               0.0017689152713401               2493.88                               1.0               0.001768915271                565.318201613   \n",
      "\n",
      "                                       address                 name       pool_created_at           fdv_usd    market_cap_usd  \\\n",
      "0   0x6f38e884725a116c9c7fbf208e79fe8828a2595f    USDC / WETH 0.01%  2023-06-10T16:44:01Z  4348792659.75579  60637468660.8295   \n",
      "3   0xc6962004f452be9203591991d15f6b388e09e8d0    USDC / WETH 0.05%  2023-06-08T21:28:24Z  4349857419.61943  60637468660.8295   \n",
      "5   0x641c00a822e8b671738d32a431a4fb6074e5c79d    WETH / USDT 0.05%  2022-02-07T15:10:40Z  485904267.351916  483928653.530516   \n",
      "6   0x2f5e87c9312fa29aed5c179e456625d79015299c    WBTC / WETH 0.05%  2022-02-07T15:13:14Z  864074907.733701  862671833.792531   \n",
      "8   0x0e4831319a50228b9e450861297ab92dee15b44f    USDC / WBTC 0.05%  2023-06-28T12:07:23Z  4349386533.14374  60637468660.8295   \n",
      "9   0x42161084d0672e1d3f26a9b53e653be2084ff19c    WETH / USDT 0.01%  2023-03-08T11:17:57Z  485993893.141041  483928653.530516   \n",
      "10  0xc31e54c7a869b9fcbecc14363cf510d1c41fa443    WETH / USDC 0.05%  2022-02-07T15:10:59Z  485956873.793359  483928653.530516   \n",
      "11  0xcda53b1f66614552f834ceef361a8d12a0b8dad8     ARB / USDC 0.05%  2023-03-20T19:40:12Z  3896936502.92434   1893638284.4499   \n",
      "14  0xb08a8794a5d3ccca3725d92964696858d3201909  PENDLE / WETH 0.05%  2023-05-04T13:23:09Z   132360500.52545  714153609.409851   \n",
      "\n",
      "                                                                       price_change_percentage  \\\n",
      "0      {'m5': '0.26', 'm15': '0.26', 'm30': '0.43', 'h1': '0.21', 'h6': '0.39', 'h24': '0.18'}   \n",
      "3      {'m5': '0.34', 'm15': '0.25', 'm30': '0.49', 'h1': '0.35', 'h6': '0.39', 'h24': '0.28'}   \n",
      "5    {'m5': '0.06', 'm15': '0.25', 'm30': '0.59', 'h1': '0.75', 'h6': '-0.62', 'h24': '-1.19'}   \n",
      "6      {'m5': '0.27', 'm15': '0.23', 'm30': '0.89', 'h1': '0.79', 'h6': '1.04', 'h24': '0.82'}   \n",
      "8       {'m5': '0.22', 'm15': '0.2', 'm30': '0.48', 'h1': '0.35', 'h6': '0.44', 'h24': '0.02'}   \n",
      "9     {'m5': '0.07', 'm15': '0.26', 'm30': '0.6', 'h1': '0.76', 'h6': '-0.61', 'h24': '-1.18'}   \n",
      "10      {'m5': '0', 'm15': '0.25', 'm30': '0.59', 'h1': '0.75', 'h6': '-0.62', 'h24': '-1.19'}   \n",
      "11  {'m5': '-0.02', 'm15': '0.43', 'm30': '1.11', 'h1': '1.32', 'h6': '-0.06', 'h24': '-0.24'}   \n",
      "14      {'m5': '0.29', 'm15': '0.78', 'm30': '1.37', 'h1': '1.3', 'h6': '1.15', 'h24': '7.32'}   \n",
      "\n",
      "                                                                                                                                                                                                                                                                                                                                                                                                                  transactions  \\\n",
      "0   {'m5': {'buys': 169, 'sells': 142, 'buyers': 53, 'sellers': 39}, 'm15': {'buys': 530, 'sells': 443, 'buyers': 103, 'sellers': 79}, 'm30': {'buys': 1346, 'sells': 1026, 'buyers': 174, 'sellers': 122}, 'h1': {'buys': 2105, 'sells': 1668, 'buyers': 225, 'sellers': 186}, 'h6': {'buys': 12166, 'sells': 10407, 'buyers': 659, 'sellers': 647}, 'h24': {'buys': 43698, 'sells': 37610, 'buyers': 1767, 'sellers': 1572}}   \n",
      "3               {'m5': {'buys': 94, 'sells': 22, 'buyers': 41, 'sellers': 11}, 'm15': {'buys': 201, 'sells': 191, 'buyers': 60, 'sellers': 49}, 'm30': {'buys': 500, 'sells': 502, 'buyers': 101, 'sellers': 94}, 'h1': {'buys': 786, 'sells': 847, 'buyers': 134, 'sellers': 150}, 'h6': {'buys': 5526, 'sells': 5365, 'buyers': 358, 'sellers': 402}, 'h24': {'buys': 20564, 'sells': 20283, 'buyers': 884, 'sellers': 885}}   \n",
      "5                 {'m5': {'buys': 13, 'sells': 54, 'buyers': 10, 'sellers': 17}, 'm15': {'buys': 100, 'sells': 115, 'buyers': 40, 'sellers': 28}, 'm30': {'buys': 261, 'sells': 287, 'buyers': 75, 'sellers': 66}, 'h1': {'buys': 493, 'sells': 444, 'buyers': 118, 'sellers': 95}, 'h6': {'buys': 3339, 'sells': 3393, 'buyers': 306, 'sellers': 239}, 'h24': {'buys': 12156, 'sells': 12144, 'buyers': 684, 'sellers': 579}}   \n",
      "6                    {'m5': {'buys': 58, 'sells': 2, 'buyers': 20, 'sellers': 2}, 'm15': {'buys': 88, 'sells': 80, 'buyers': 33, 'sellers': 36}, 'm30': {'buys': 240, 'sells': 157, 'buyers': 91, 'sellers': 70}, 'h1': {'buys': 347, 'sells': 282, 'buyers': 107, 'sellers': 107}, 'h6': {'buys': 3141, 'sells': 2087, 'buyers': 388, 'sellers': 313}, 'h24': {'buys': 11641, 'sells': 10039, 'buyers': 686, 'sellers': 661}}   \n",
      "8                       {'m5': {'buys': 33, 'sells': 1, 'buyers': 14, 'sellers': 1}, 'm15': {'buys': 50, 'sells': 67, 'buyers': 16, 'sellers': 23}, 'm30': {'buys': 117, 'sells': 348, 'buyers': 40, 'sellers': 70}, 'h1': {'buys': 207, 'sells': 496, 'buyers': 53, 'sellers': 114}, 'h6': {'buys': 1844, 'sells': 2179, 'buyers': 198, 'sellers': 256}, 'h24': {'buys': 6776, 'sells': 7101, 'buyers': 454, 'sellers': 530}}   \n",
      "9                                {'m5': {'buys': 7, 'sells': 5, 'buyers': 1, 'sellers': 5}, 'm15': {'buys': 123, 'sells': 16, 'buyers': 3, 'sellers': 13}, 'm30': {'buys': 274, 'sells': 37, 'buyers': 3, 'sellers': 28}, 'h1': {'buys': 557, 'sells': 59, 'buyers': 4, 'sellers': 44}, 'h6': {'buys': 3456, 'sells': 375, 'buyers': 31, 'sellers': 227}, 'h24': {'buys': 12186, 'sells': 1270, 'buyers': 83, 'sellers': 674}}   \n",
      "10                        {'m5': {'buys': 5, 'sells': 36, 'buyers': 3, 'sellers': 20}, 'm15': {'buys': 27, 'sells': 61, 'buyers': 6, 'sellers': 27}, 'm30': {'buys': 116, 'sells': 165, 'buyers': 11, 'sellers': 44}, 'h1': {'buys': 190, 'sells': 223, 'buyers': 22, 'sellers': 45}, 'h6': {'buys': 1433, 'sells': 1824, 'buyers': 134, 'sellers': 115}, 'h24': {'buys': 5869, 'sells': 7139, 'buyers': 421, 'sellers': 304}}   \n",
      "11                        {'m5': {'buys': 11, 'sells': 19, 'buyers': 6, 'sellers': 5}, 'm15': {'buys': 59, 'sells': 41, 'buyers': 15, 'sellers': 9}, 'm30': {'buys': 154, 'sells': 118, 'buyers': 25, 'sellers': 19}, 'h1': {'buys': 263, 'sells': 223, 'buyers': 36, 'sellers': 26}, 'h6': {'buys': 1831, 'sells': 1732, 'buyers': 113, 'sellers': 103}, 'h24': {'buys': 6296, 'sells': 5922, 'buyers': 338, 'sellers': 201}}   \n",
      "14                          {'m5': {'buys': 25, 'sells': 8, 'buyers': 8, 'sellers': 7}, 'm15': {'buys': 50, 'sells': 19, 'buyers': 17, 'sellers': 12}, 'm30': {'buys': 90, 'sells': 64, 'buyers': 21, 'sellers': 26}, 'h1': {'buys': 130, 'sells': 109, 'buyers': 30, 'sellers': 48}, 'h6': {'buys': 1128, 'sells': 1207, 'buyers': 156, 'sellers': 185}, 'h24': {'buys': 5199, 'sells': 5599, 'buyers': 380, 'sellers': 476}}   \n",
      "\n",
      "                                                                                                                                                         volume_usd reserve_in_usd  \\\n",
      "0     {'m5': '177321.244970361', 'm15': '576213.932593956', 'm30': '1596773.50073634', 'h1': '2364979.21212265', 'h6': '11932608.132924', 'h24': '42827584.819629'}    1957488.808   \n",
      "3   {'m5': '578518.729583967', 'm15': '1850873.52526616', 'm30': '4871330.30134015', 'h1': '7837761.02464825', 'h6': '50044623.5041001', 'h24': '190544990.225699'}  49600241.9557   \n",
      "5   {'m5': '77305.0387168864', 'm15': '253345.851008473', 'm30': '637755.643142581', 'h1': '1034869.98037592', 'h6': '7012578.25347982', 'h24': '30170578.1886223'}  10755644.0698   \n",
      "6      {'m5': '154193.591068662', 'm15': '467259.171629349', 'm30': '1193674.80944094', 'h1': '1683351.28493', 'h6': '17618866.5905649', 'h24': '79882023.8081639'}   41028240.394   \n",
      "8   {'m5': '123572.375656684', 'm15': '406159.303110387', 'm30': '1842100.34205123', 'h1': '2590455.81241597', 'h6': '14142433.8031279', 'h24': '51961545.1480128'}  10470504.5542   \n",
      "9               {'m5': '50.997550612', 'm15': '222.369220179', 'm30': '554.5089263384', 'h1': '888.4330586676', 'h6': '7532.6364529978', 'h24': '28915.3758536166'}     37724.0188   \n",
      "10  {'m5': '12363.6264644479', 'm15': '38519.3378427559', 'm30': '103967.535860345', 'h1': '158549.519783791', 'h6': '1213558.23192055', 'h24': '4951932.25489858'}     2332162.44   \n",
      "11  {'m5': '16329.7889852582', 'm15': '58658.5098443414', 'm30': '158303.469425492', 'h1': '255960.846058165', 'h6': '1798652.85528426', 'h24': '6382907.61262705'}   1099446.6997   \n",
      "14   {'m5': '6663.2480343822', 'm15': '15326.7592821932', 'm30': '34194.7463989788', 'h1': '58545.2222210964', 'h6': '681012.070172603', 'h24': '3571853.82773649'}    632842.4998   \n",
      "\n",
      "                                                     id                                        base_token_id                                       quote_token_id               dex_id  \n",
      "0   arbitrum_0x6f38e884725a116c9c7fbf208e79fe8828a2595f  arbitrum_0xaf88d065e77c8cc2239327c5edb3a432268e5831  arbitrum_0x82af49447d8a07e3bd95bd0d56f35241523fbab1  uniswap_v3_arbitrum  \n",
      "3   arbitrum_0xc6962004f452be9203591991d15f6b388e09e8d0  arbitrum_0xaf88d065e77c8cc2239327c5edb3a432268e5831  arbitrum_0x82af49447d8a07e3bd95bd0d56f35241523fbab1  uniswap_v3_arbitrum  \n",
      "5   arbitrum_0x641c00a822e8b671738d32a431a4fb6074e5c79d  arbitrum_0x82af49447d8a07e3bd95bd0d56f35241523fbab1  arbitrum_0xfd086bc7cd5c481dcc9c85ebe478a1c0b69fcbb9  uniswap_v3_arbitrum  \n",
      "6   arbitrum_0x2f5e87c9312fa29aed5c179e456625d79015299c  arbitrum_0x2f2a2543b76a4166549f7aab2e75bef0aefc5b0f  arbitrum_0x82af49447d8a07e3bd95bd0d56f35241523fbab1  uniswap_v3_arbitrum  \n",
      "8   arbitrum_0x0e4831319a50228b9e450861297ab92dee15b44f  arbitrum_0xaf88d065e77c8cc2239327c5edb3a432268e5831  arbitrum_0x2f2a2543b76a4166549f7aab2e75bef0aefc5b0f  uniswap_v3_arbitrum  \n",
      "9   arbitrum_0x42161084d0672e1d3f26a9b53e653be2084ff19c  arbitrum_0x82af49447d8a07e3bd95bd0d56f35241523fbab1  arbitrum_0xfd086bc7cd5c481dcc9c85ebe478a1c0b69fcbb9  uniswap_v3_arbitrum  \n",
      "10  arbitrum_0xc31e54c7a869b9fcbecc14363cf510d1c41fa443  arbitrum_0x82af49447d8a07e3bd95bd0d56f35241523fbab1  arbitrum_0xff970a61a04b1ca14834a43f5de4533ebddb5cc8  uniswap_v3_arbitrum  \n",
      "11  arbitrum_0xcda53b1f66614552f834ceef361a8d12a0b8dad8  arbitrum_0x912ce59144191c1204e64559fe8253a0e49e6548  arbitrum_0xff970a61a04b1ca14834a43f5de4533ebddb5cc8  uniswap_v3_arbitrum  \n",
      "14  arbitrum_0xb08a8794a5d3ccca3725d92964696858d3201909  arbitrum_0x0c880f6761f1af8d9aa9c466984b80dab9a8c9e8  arbitrum_0x82af49447d8a07e3bd95bd0d56f35241523fbab1  uniswap_v3_arbitrum  \n"
     ]
    }
   ],
   "source": [
    "# Filter the DataFrame where dex_id is 'uniswap_v3_arbitrum'\n",
    "uniswap_df = df[df['dex_id'] == 'uniswap_v3_arbitrum']\n",
    "\n",
    "# Optionally, display or inspect the result\n",
    "print(uniswap_df)\n"
   ]
  },
  {
   "cell_type": "code",
   "execution_count": 145,
   "id": "9cff856c",
   "metadata": {},
   "outputs": [
    {
     "data": {
      "text/html": [
       "<div>\n",
       "<style scoped>\n",
       "    .dataframe tbody tr th:only-of-type {\n",
       "        vertical-align: middle;\n",
       "    }\n",
       "\n",
       "    .dataframe tbody tr th {\n",
       "        vertical-align: top;\n",
       "    }\n",
       "\n",
       "    .dataframe thead th {\n",
       "        text-align: right;\n",
       "    }\n",
       "</style>\n",
       "<table border=\"1\" class=\"dataframe\">\n",
       "  <thead>\n",
       "    <tr style=\"text-align: right;\">\n",
       "      <th></th>\n",
       "      <th>base_token_price_usd</th>\n",
       "      <th>base_token_price_native_currency</th>\n",
       "      <th>quote_token_price_usd</th>\n",
       "      <th>quote_token_price_native_currency</th>\n",
       "      <th>base_token_price_quote_token</th>\n",
       "      <th>quote_token_price_base_token</th>\n",
       "      <th>address</th>\n",
       "      <th>name</th>\n",
       "      <th>pool_created_at</th>\n",
       "      <th>fdv_usd</th>\n",
       "      <th>market_cap_usd</th>\n",
       "      <th>price_change_percentage</th>\n",
       "      <th>transactions</th>\n",
       "      <th>volume_usd</th>\n",
       "      <th>reserve_in_usd</th>\n",
       "      <th>id</th>\n",
       "      <th>base_token_id</th>\n",
       "      <th>quote_token_id</th>\n",
       "      <th>dex_id</th>\n",
       "    </tr>\n",
       "  </thead>\n",
       "  <tbody>\n",
       "  </tbody>\n",
       "</table>\n",
       "</div>"
      ],
      "text/plain": [
       "Empty DataFrame\n",
       "Columns: [base_token_price_usd, base_token_price_native_currency, quote_token_price_usd, quote_token_price_native_currency, base_token_price_quote_token, quote_token_price_base_token, address, name, pool_created_at, fdv_usd, market_cap_usd, price_change_percentage, transactions, volume_usd, reserve_in_usd, id, base_token_id, quote_token_id, dex_id]\n",
       "Index: []"
      ]
     },
     "execution_count": 145,
     "metadata": {},
     "output_type": "execute_result"
    }
   ],
   "source": [
    "# List of target pool IDs\n",
    "target_pools = [\n",
    "    \"arbitrum_0x377bece457fb0bb318c8c6a86c4833a8af2dfad1\",\n",
    "    \"arbitrum_0x0b5a972b27c5b735990c28011ccb4fd93966120c\",\n",
    "    \"arbitrum_0xf89239aee0335f302c310b3bbad280be479be17f\"\n",
    "]\n",
    "\n",
    "# Filter the DataFrame\n",
    "filtered_df = df[df['id'].isin(target_pools)]\n",
    "\n",
    "filtered_df.head()"
   ]
  },
  {
   "cell_type": "markdown",
   "id": "b600f5ad",
   "metadata": {},
   "source": [
    "## Get Token Metadata/pools"
   ]
  },
  {
   "cell_type": "code",
   "execution_count": 146,
   "id": "b4e1e47b",
   "metadata": {},
   "outputs": [
    {
     "name": "stdout",
     "output_type": "stream",
     "text": [
      "Attributes DataFrame:\n",
      "                                       address    name  symbol  decimals                                                                            image_url coingecko_coin_id  total_supply  \\\n",
      "0  0x050c24dbf1eec17babe5fc585f06116a259cc77a  dlcBTC  DLCBTC         8  https://coin-images.coingecko.com/coins/images/37289/large/iBTC_main.png?1742022373   dlc-link-dlcbtc  2461763181.0   \n",
      "\n",
      "         price_usd           fdv_usd      total_reserve_in_usd                  volume_usd   market_cap_usd  \n",
      "0  105249.16834461  2590985.27461632  1405706.1379069748553513  {'h24': '490.95754568622'}  3744455.1530453  \n",
      "\n",
      "Top Pools DataFrame:\n",
      "                                                     id  type token_name token_symbol\n",
      "0  arbitrum_0x377bece457fb0bb318c8c6a86c4833a8af2dfad1  pool     dlcBTC       DLCBTC\n",
      "1  arbitrum_0x0b5a972b27c5b735990c28011ccb4fd93966120c  pool     dlcBTC       DLCBTC\n",
      "2  arbitrum_0xf89239aee0335f302c310b3bbad280be479be17f  pool     dlcBTC       DLCBTC\n"
     ]
    }
   ],
   "source": [
    "url = \"https://pro-api.coingecko.com/api/v3/onchain/networks/arbitrum/tokens/0x050C24dBf1eEc17babE5fc585F06116A259CC77A\"\n",
    "\n",
    "\n",
    "headers = {\n",
    "           \"accept\": \"application/json\",\n",
    "           \"x-cg-pro-api-key\": api_key\n",
    "           }\n",
    "\n",
    "response = requests.get(url, headers=headers)\n",
    "\n",
    "data = response.json()\n",
    "\n",
    "\n",
    "# Extract attributes and pools\n",
    "attributes = data[\"data\"][\"attributes\"]\n",
    "pools = data[\"data\"][\"relationships\"][\"top_pools\"][\"data\"]\n",
    "\n",
    "# Convert attributes to DataFrame (1 row)\n",
    "attributes_df = pd.DataFrame([attributes])\n",
    "\n",
    "\n",
    "pools_df = pd.DataFrame(pools)\n",
    "\n",
    "\n",
    "pools_df[\"token_name\"] = attributes[\"name\"]\n",
    "pools_df[\"token_symbol\"] = attributes[\"symbol\"]\n",
    "\n",
    "\n",
    "print(\"Attributes DataFrame:\\n\", attributes_df)\n",
    "print(\"\\nTop Pools DataFrame:\\n\", pools_df)\n",
    "\n",
    "\n",
    "\n",
    "\n",
    "\n",
    "# print(response.status_code)\n",
    "# print(response.text)"
   ]
  }
 ],
 "metadata": {
  "kernelspec": {
   "display_name": "btcfi",
   "language": "python",
   "name": "python3"
  },
  "language_info": {
   "codemirror_mode": {
    "name": "ipython",
    "version": 3
   },
   "file_extension": ".py",
   "mimetype": "text/x-python",
   "name": "python",
   "nbconvert_exporter": "python",
   "pygments_lexer": "ipython3",
   "version": "3.11.9"
  }
 },
 "nbformat": 4,
 "nbformat_minor": 5
}
